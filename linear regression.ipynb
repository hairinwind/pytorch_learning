{
 "cells": [
  {
   "cell_type": "code",
   "execution_count": 1,
   "metadata": {},
   "outputs": [],
   "source": [
    "import numpy as np"
   ]
  },
  {
   "cell_type": "code",
   "execution_count": 2,
   "metadata": {},
   "outputs": [
    {
     "data": {
      "text/plain": [
       "[0, 1, 2, 3, 4, 5, 6, 7, 8, 9, 10, 50]"
      ]
     },
     "execution_count": 2,
     "metadata": {},
     "output_type": "execute_result"
    }
   ],
   "source": [
    "x_values = [i for i in range(11)]\n",
    "x_values.append(50)\n",
    "# x_values.append(1000)\n",
    "x_values"
   ]
  },
  {
   "cell_type": "code",
   "execution_count": 3,
   "metadata": {},
   "outputs": [
    {
     "data": {
      "text/plain": [
       "(12,)"
      ]
     },
     "execution_count": 3,
     "metadata": {},
     "output_type": "execute_result"
    }
   ],
   "source": [
    "x_train = np.array(x_values, dtype=np.float32)\n",
    "x_train.shape"
   ]
  },
  {
   "cell_type": "code",
   "execution_count": 4,
   "metadata": {},
   "outputs": [
    {
     "data": {
      "text/plain": [
       "(12, 1)"
      ]
     },
     "execution_count": 4,
     "metadata": {},
     "output_type": "execute_result"
    }
   ],
   "source": [
    "x_train = x_train.reshape(-1,1)\n",
    "x_train.shape"
   ]
  },
  {
   "cell_type": "code",
   "execution_count": 5,
   "metadata": {},
   "outputs": [
    {
     "data": {
      "text/plain": [
       "array([[ 0.],\n",
       "       [ 1.],\n",
       "       [ 2.],\n",
       "       [ 3.],\n",
       "       [ 4.],\n",
       "       [ 5.],\n",
       "       [ 6.],\n",
       "       [ 7.],\n",
       "       [ 8.],\n",
       "       [ 9.],\n",
       "       [10.],\n",
       "       [50.]], dtype=float32)"
      ]
     },
     "execution_count": 5,
     "metadata": {},
     "output_type": "execute_result"
    }
   ],
   "source": [
    "x_train"
   ]
  },
  {
   "cell_type": "code",
   "execution_count": 6,
   "metadata": {},
   "outputs": [
    {
     "data": {
      "text/plain": [
       "[1, 3, 5, 7, 9, 11, 13, 15, 17, 19, 21, 101]"
      ]
     },
     "execution_count": 6,
     "metadata": {},
     "output_type": "execute_result"
    }
   ],
   "source": [
    "y_values = [2*i + 1 for i in x_values]\n",
    "y_values"
   ]
  },
  {
   "cell_type": "code",
   "execution_count": 7,
   "metadata": {},
   "outputs": [
    {
     "data": {
      "text/plain": [
       "(12,)"
      ]
     },
     "execution_count": 7,
     "metadata": {},
     "output_type": "execute_result"
    }
   ],
   "source": [
    "y_train = np.array(y_values, dtype=np.float32)\n",
    "y_train.shape"
   ]
  },
  {
   "cell_type": "code",
   "execution_count": 8,
   "metadata": {},
   "outputs": [
    {
     "data": {
      "text/plain": [
       "(12, 1)"
      ]
     },
     "execution_count": 8,
     "metadata": {},
     "output_type": "execute_result"
    }
   ],
   "source": [
    "y_train = y_train.reshape(-1,1)\n",
    "y_train.shape"
   ]
  },
  {
   "cell_type": "code",
   "execution_count": 9,
   "metadata": {},
   "outputs": [
    {
     "data": {
      "text/plain": [
       "array([[  1.],\n",
       "       [  3.],\n",
       "       [  5.],\n",
       "       [  7.],\n",
       "       [  9.],\n",
       "       [ 11.],\n",
       "       [ 13.],\n",
       "       [ 15.],\n",
       "       [ 17.],\n",
       "       [ 19.],\n",
       "       [ 21.],\n",
       "       [101.]], dtype=float32)"
      ]
     },
     "execution_count": 9,
     "metadata": {},
     "output_type": "execute_result"
    }
   ],
   "source": [
    "y_train"
   ]
  },
  {
   "cell_type": "code",
   "execution_count": 10,
   "metadata": {},
   "outputs": [],
   "source": [
    "import torch\n",
    "import torch.nn as nn\n",
    "from torch.autograd import Variable"
   ]
  },
  {
   "cell_type": "code",
   "execution_count": 11,
   "metadata": {},
   "outputs": [],
   "source": [
    "class LinearRegressionModel(nn.Module):\n",
    "    def __init__(self, input_dim, output_dim):\n",
    "        super(LinearRegressionModel, self).__init__()\n",
    "        self.linear = nn.Linear(input_dim, output_dim)\n",
    "        \n",
    "    def forward(self, x):\n",
    "        out = self.linear(x)\n",
    "        return out"
   ]
  },
  {
   "cell_type": "code",
   "execution_count": 12,
   "metadata": {},
   "outputs": [],
   "source": [
    "input_dim = 1\n",
    "output_dim = 1\n",
    "model = LinearRegressionModel(input_dim, output_dim)"
   ]
  },
  {
   "cell_type": "code",
   "execution_count": 13,
   "metadata": {},
   "outputs": [],
   "source": [
    "criterion = nn.MSELoss()"
   ]
  },
  {
   "cell_type": "code",
   "execution_count": 14,
   "metadata": {},
   "outputs": [],
   "source": [
    "learning_rate = 0.001\n",
    "optimizer = torch.optim.SGD(model.parameters(), lr=learning_rate)"
   ]
  },
  {
   "cell_type": "code",
   "execution_count": 15,
   "metadata": {},
   "outputs": [],
   "source": [
    "epochs = 10"
   ]
  },
  {
   "cell_type": "code",
   "execution_count": 16,
   "metadata": {},
   "outputs": [
    {
     "name": "stdout",
     "output_type": "stream",
     "text": [
      "epoch 1\n",
      "tensor([[ -0.4924],\n",
      "        [ -0.7648],\n",
      "        [ -1.0371],\n",
      "        [ -1.3095],\n",
      "        [ -1.5819],\n",
      "        [ -1.8542],\n",
      "        [ -2.1266],\n",
      "        [ -2.3990],\n",
      "        [ -2.6713],\n",
      "        [ -2.9437],\n",
      "        [ -3.2160],\n",
      "        [-14.1106]], grad_fn=<ThAddmmBackward>)\n",
      "loss\n",
      "tensor(1302.9989, grad_fn=<MseLossBackward>)\n",
      "loss 1302.9989013671875\n",
      "parameters...\n",
      "tensor([[0.8464]])\n",
      "tensor([-0.4497])\n",
      "epoch 2\n",
      "tensor([[-0.4497],\n",
      "        [ 0.3967],\n",
      "        [ 1.2431],\n",
      "        [ 2.0895],\n",
      "        [ 2.9359],\n",
      "        [ 3.7822],\n",
      "        [ 4.6286],\n",
      "        [ 5.4750],\n",
      "        [ 6.3214],\n",
      "        [ 7.1678],\n",
      "        [ 8.0142],\n",
      "        [41.8694]], grad_fn=<ThAddmmBackward>)\n",
      "loss\n",
      "tensor(351.3225, grad_fn=<MseLossBackward>)\n",
      "loss 351.3224792480469\n",
      "parameters...\n",
      "tensor([[1.4264]])\n",
      "tensor([-0.4266])\n",
      "epoch 3\n",
      "tensor([[-0.4266],\n",
      "        [ 0.9999],\n",
      "        [ 2.4263],\n",
      "        [ 3.8528],\n",
      "        [ 5.2792],\n",
      "        [ 6.7057],\n",
      "        [ 8.1321],\n",
      "        [ 9.5586],\n",
      "        [10.9850],\n",
      "        [12.4115],\n",
      "        [13.8379],\n",
      "        [70.8959]], grad_fn=<ThAddmmBackward>)\n",
      "loss\n",
      "tensor(95.4415, grad_fn=<MseLossBackward>)\n",
      "loss 95.44145965576172\n",
      "parameters...\n",
      "tensor([[1.7272]])\n",
      "tensor([-0.4137])\n",
      "epoch 4\n",
      "tensor([[-0.4137],\n",
      "        [ 1.3135],\n",
      "        [ 3.0407],\n",
      "        [ 4.7679],\n",
      "        [ 6.4951],\n",
      "        [ 8.2223],\n",
      "        [ 9.9495],\n",
      "        [11.6767],\n",
      "        [13.4039],\n",
      "        [15.1311],\n",
      "        [16.8583],\n",
      "        [85.9461]], grad_fn=<ThAddmmBackward>)\n",
      "loss\n",
      "tensor(26.6397, grad_fn=<MseLossBackward>)\n",
      "loss 26.63973617553711\n",
      "parameters...\n",
      "tensor([[1.8831]])\n",
      "tensor([-0.4061])\n",
      "epoch 5\n",
      "tensor([[-0.4061],\n",
      "        [ 1.4770],\n",
      "        [ 3.3601],\n",
      "        [ 5.2432],\n",
      "        [ 7.1264],\n",
      "        [ 9.0095],\n",
      "        [10.8926],\n",
      "        [12.7757],\n",
      "        [14.6588],\n",
      "        [16.5419],\n",
      "        [18.4250],\n",
      "        [93.7494]], grad_fn=<ThAddmmBackward>)\n",
      "loss\n",
      "tensor(8.1383, grad_fn=<MseLossBackward>)\n",
      "loss 8.138257026672363\n",
      "parameters...\n",
      "tensor([[1.9639]])\n",
      "tensor([-0.4012])\n",
      "epoch 6\n",
      "tensor([[-0.4012],\n",
      "        [ 1.5627],\n",
      "        [ 3.5266],\n",
      "        [ 5.4905],\n",
      "        [ 7.4545],\n",
      "        [ 9.4184],\n",
      "        [11.3823],\n",
      "        [13.3462],\n",
      "        [15.3101],\n",
      "        [17.2741],\n",
      "        [19.2380],\n",
      "        [97.7948]], grad_fn=<ThAddmmBackward>)\n",
      "loss\n",
      "tensor(3.1611, grad_fn=<MseLossBackward>)\n",
      "loss 3.161112070083618\n",
      "parameters...\n",
      "tensor([[2.0058]])\n",
      "tensor([-0.3978])\n",
      "epoch 7\n",
      "tensor([[-0.3978],\n",
      "        [ 1.6080],\n",
      "        [ 3.6138],\n",
      "        [ 5.6196],\n",
      "        [ 7.6254],\n",
      "        [ 9.6312],\n",
      "        [11.6369],\n",
      "        [13.6427],\n",
      "        [15.6485],\n",
      "        [17.6543],\n",
      "        [19.6601],\n",
      "        [99.8917]], grad_fn=<ThAddmmBackward>)\n",
      "loss\n",
      "tensor(1.8202, grad_fn=<MseLossBackward>)\n",
      "loss 1.820245385169983\n",
      "parameters...\n",
      "tensor([[2.0275]])\n",
      "tensor([-0.3951])\n",
      "epoch 8\n",
      "tensor([[ -0.3951],\n",
      "        [  1.6324],\n",
      "        [  3.6598],\n",
      "        [  5.6873],\n",
      "        [  7.7148],\n",
      "        [  9.7422],\n",
      "        [ 11.7697],\n",
      "        [ 13.7972],\n",
      "        [ 15.8246],\n",
      "        [ 17.8521],\n",
      "        [ 19.8796],\n",
      "        [100.9783]], grad_fn=<ThAddmmBackward>)\n",
      "loss\n",
      "tensor(1.4571, grad_fn=<MseLossBackward>)\n",
      "loss 1.457086205482483\n",
      "parameters...\n",
      "tensor([[2.0387]])\n",
      "tensor([-0.3928])\n",
      "epoch 9\n",
      "tensor([[ -0.3928],\n",
      "        [  1.6459],\n",
      "        [  3.6846],\n",
      "        [  5.7232],\n",
      "        [  7.7619],\n",
      "        [  9.8006],\n",
      "        [ 11.8393],\n",
      "        [ 13.8779],\n",
      "        [ 15.9166],\n",
      "        [ 17.9553],\n",
      "        [ 19.9940],\n",
      "        [101.5409]], grad_fn=<ThAddmmBackward>)\n",
      "loss\n",
      "tensor(1.3568, grad_fn=<MseLossBackward>)\n",
      "loss 1.3568111658096313\n",
      "parameters...\n",
      "tensor([[2.0445]])\n",
      "tensor([-0.3907])\n",
      "epoch 10\n",
      "tensor([[ -0.3907],\n",
      "        [  1.6538],\n",
      "        [  3.6982],\n",
      "        [  5.7427],\n",
      "        [  7.7871],\n",
      "        [  9.8316],\n",
      "        [ 11.8760],\n",
      "        [ 13.9205],\n",
      "        [ 15.9649],\n",
      "        [ 18.0094],\n",
      "        [ 20.0538],\n",
      "        [101.8319]], grad_fn=<ThAddmmBackward>)\n",
      "loss\n",
      "tensor(1.3272, grad_fn=<MseLossBackward>)\n",
      "loss 1.3272243738174438\n",
      "parameters...\n",
      "tensor([[2.0474]])\n",
      "tensor([-0.3887])\n"
     ]
    }
   ],
   "source": [
    "for epoch in range(epochs):\n",
    "    epoch += 1\n",
    "    print(f'epoch {epoch}')\n",
    "    inputs = Variable(torch.from_numpy(x_train))\n",
    "    labels = Variable(torch.from_numpy(y_train))  # lable is result\n",
    "    \n",
    "    # Clear gradients w.r.t. parameters\n",
    "    optimizer.zero_grad()\n",
    "    \n",
    "    # Forward to get output\n",
    "    outputs = model(inputs)\n",
    "    print(outputs)\n",
    "    \n",
    "    # calculation loss\n",
    "    loss = criterion(outputs, labels)\n",
    "    print('loss')\n",
    "    print(loss)\n",
    "    \n",
    "    # getting gradients w.r.t parameters\n",
    "    loss.backward()\n",
    "    \n",
    "    # updating parameters\n",
    "    optimizer.step()\n",
    "    \n",
    "    print(f'loss {loss.data}')\n",
    "    \n",
    "    print('parameters...')\n",
    "    for param in model.parameters():\n",
    "        print(param.data)"
   ]
  },
  {
   "cell_type": "code",
   "execution_count": 17,
   "metadata": {},
   "outputs": [
    {
     "data": {
      "text/plain": [
       "array([[ -0.38867623],\n",
       "       [  1.6587389 ],\n",
       "       [  3.7061539 ],\n",
       "       [  5.753569  ],\n",
       "       [  7.800984  ],\n",
       "       [  9.848398  ],\n",
       "       [ 11.895814  ],\n",
       "       [ 13.943229  ],\n",
       "       [ 15.9906435 ],\n",
       "       [ 18.03806   ],\n",
       "       [ 20.085474  ],\n",
       "       [101.98207   ]], dtype=float32)"
      ]
     },
     "execution_count": 17,
     "metadata": {},
     "output_type": "execute_result"
    }
   ],
   "source": [
    "predicted = model(Variable(torch.from_numpy(x_train))).data.numpy()\n",
    "predicted"
   ]
  },
  {
   "cell_type": "code",
   "execution_count": 24,
   "metadata": {
    "scrolled": true
   },
   "outputs": [
    {
     "data": {
      "image/png": "[encoded data removed]",
      "text/plain": [
       "<Figure size 432x288 with 1 Axes>"
      ]
     },
     "metadata": {
      "needs_background": "light"
     },
     "output_type": "display_data"
    }
   ],
   "source": [
    "import matplotlib.pyplot as plt\n",
    "# clear figure\n",
    "plt.clf()\n",
    "\n",
    "predicted = model(Variable(torch.from_numpy(x_train))).data.numpy()\n",
    "predicted\n",
    "\n",
    "plt.plot(x_train, y_train, 'go', label='True Data', alpha=0.5)\n",
    "plt.plot(x_train, predicted, '--', label='Predictions', alpha=0.5)\n",
    "\n",
    "# Legend and plot\n",
    "plt.legend(loc='best')\n",
    "plt.show()"
   ]
  },
  {
   "cell_type": "code",
   "execution_count": 19,
   "metadata": {},
   "outputs": [],
   "source": [
    "# save the model, which contains the parameters learned from training\n",
    "torch.save(model.state_dict(), 'linear_regression_model.pkl')"
   ]
  },
  {
   "cell_type": "code",
   "execution_count": 20,
   "metadata": {},
   "outputs": [],
   "source": [
    "# load parameters learned\n",
    "model.load_state_dict(torch.load('linear_regression_model.pkl'))"
   ]
  },
  {
   "cell_type": "code",
   "execution_count": 21,
   "metadata": {},
   "outputs": [],
   "source": [
    "# how to predict the next value, for example x = 11 ???"
   ]
  },
  {
   "cell_type": "code",
   "execution_count": 22,
   "metadata": {},
   "outputs": [
    {
     "data": {
      "text/plain": [
       "Parameter containing:\n",
       "tensor([[2.0474]], requires_grad=True)"
      ]
     },
     "execution_count": 22,
     "metadata": {},
     "output_type": "execute_result"
    }
   ],
   "source": [
    "model.linear.weight"
   ]
  },
  {
   "cell_type": "code",
   "execution_count": 23,
   "metadata": {},
   "outputs": [],
   "source": [
    "# add some data in the training data, if add 50, the learing rate need change to 0.01\n",
    "# add 1000 in training data, the result is bad\n",
    "# it seems reducing learning_rate need increase epochs"
   ]
  }
 ],
 "metadata": {
  "kernelspec": {
   "display_name": "Python [conda root]",
   "language": "python",
   "name": "conda-root-py"
  },
  "language_info": {
   "codemirror_mode": {
    "name": "ipython",
    "version": 3
   },
   "file_extension": ".py",
   "mimetype": "text/x-python",
   "name": "python",
   "nbconvert_exporter": "python",
   "pygments_lexer": "ipython3",
   "version": "3.7.0"
  }
 },
 "nbformat": 4,
 "nbformat_minor": 2
}
