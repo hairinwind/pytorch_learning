{
 "cells": [
  {
   "cell_type": "code",
   "execution_count": 1,
   "metadata": {},
   "outputs": [],
   "source": [
    "import torch"
   ]
  },
  {
   "cell_type": "code",
   "execution_count": 2,
   "metadata": {},
   "outputs": [],
   "source": [
    "import torch.nn as nn\n",
    "import torch.nn.functional as F"
   ]
  },
  {
   "cell_type": "code",
   "execution_count": 3,
   "metadata": {},
   "outputs": [],
   "source": [
    "class Net(nn.Module):\n",
    "\n",
    "    def __init__(self):\n",
    "        super(Net, self).__init__()\n",
    "        # 1 input image channel, 6 output channels, 5x5 square convolution\n",
    "        # kernel\n",
    "        self.conv1 = nn.Conv2d(1, 2, 2)\n",
    "        self.conv2 = nn.Conv2d(2, 3, 2)\n",
    "        # an affine operation: y = Wx + b\n",
    "        self.fc1 = nn.Linear(16 * 2 * 2, 120)\n",
    "        self.fc2 = nn.Linear(120, 84)\n",
    "        self.fc3 = nn.Linear(84, 12)\n",
    "\n",
    "    def forward(self, x):\n",
    "        # Max pooling over a (2, 2) window\n",
    "        x = F.max_pool2d(F.relu(self.conv1(x)), (2, 2))\n",
    "        # If the size is a square you can only specify a single number\n",
    "#         x = F.max_pool2d(F.relu(self.conv2(x)), 2)\n",
    "#         x = x.view(-1, self.num_flat_features(x))\n",
    "#         x = F.relu(self.fc1(x))\n",
    "#         x = F.relu(self.fc2(x))\n",
    "#         x = self.fc3(x)\n",
    "        return x\n",
    "\n",
    "    def num_flat_features(self, x):\n",
    "        size = x.size()[1:]  # all dimensions except the batch dimension\n",
    "        num_features = 1\n",
    "        for s in size:\n",
    "            num_features *= s\n",
    "        return num_features\n"
   ]
  },
  {
   "cell_type": "code",
   "execution_count": 4,
   "metadata": {},
   "outputs": [
    {
     "name": "stdout",
     "output_type": "stream",
     "text": [
      "Net(\n",
      "  (conv1): Conv2d(1, 2, kernel_size=(2, 2), stride=(1, 1))\n",
      "  (conv2): Conv2d(2, 3, kernel_size=(2, 2), stride=(1, 1))\n",
      "  (fc1): Linear(in_features=64, out_features=120, bias=True)\n",
      "  (fc2): Linear(in_features=120, out_features=84, bias=True)\n",
      "  (fc3): Linear(in_features=84, out_features=12, bias=True)\n",
      ")\n"
     ]
    }
   ],
   "source": [
    "net = Net()\n",
    "print(net)"
   ]
  },
  {
   "cell_type": "code",
   "execution_count": 5,
   "metadata": {},
   "outputs": [
    {
     "data": {
      "text/plain": [
       "10"
      ]
     },
     "execution_count": 5,
     "metadata": {},
     "output_type": "execute_result"
    }
   ],
   "source": [
    "params = list(net.parameters())\n",
    "len(params)"
   ]
  },
  {
   "cell_type": "code",
   "execution_count": 6,
   "metadata": {},
   "outputs": [
    {
     "data": {
      "text/plain": [
       "torch.Size([2, 1, 2, 2])"
      ]
     },
     "execution_count": 6,
     "metadata": {},
     "output_type": "execute_result"
    }
   ],
   "source": [
    "params[0].size()"
   ]
  },
  {
   "cell_type": "code",
   "execution_count": 7,
   "metadata": {},
   "outputs": [
    {
     "data": {
      "text/plain": [
       "Parameter containing:\n",
       "tensor([[[[-0.0004, -0.4400],\n",
       "          [ 0.2546,  0.1066]]],\n",
       "\n",
       "\n",
       "        [[[-0.3352,  0.4572],\n",
       "          [ 0.2336,  0.3740]]]], requires_grad=True)"
      ]
     },
     "execution_count": 7,
     "metadata": {},
     "output_type": "execute_result"
    }
   ],
   "source": [
    "params[0]"
   ]
  },
  {
   "cell_type": "code",
   "execution_count": 8,
   "metadata": {},
   "outputs": [
    {
     "data": {
      "text/plain": [
       "torch.Size([2])"
      ]
     },
     "execution_count": 8,
     "metadata": {},
     "output_type": "execute_result"
    }
   ],
   "source": [
    "params[1].size()"
   ]
  },
  {
   "cell_type": "code",
   "execution_count": 9,
   "metadata": {},
   "outputs": [
    {
     "data": {
      "text/plain": [
       "Parameter containing:\n",
       "tensor([0.2669, 0.0653], requires_grad=True)"
      ]
     },
     "execution_count": 9,
     "metadata": {},
     "output_type": "execute_result"
    }
   ],
   "source": [
    "params[1]"
   ]
  },
  {
   "cell_type": "code",
   "execution_count": 10,
   "metadata": {},
   "outputs": [
    {
     "data": {
      "text/plain": [
       "Parameter containing:\n",
       "tensor([[[[ 0.0941,  0.2127],\n",
       "          [ 0.0115, -0.0323]],\n",
       "\n",
       "         [[ 0.2068, -0.1455],\n",
       "          [ 0.0498, -0.1880]]],\n",
       "\n",
       "\n",
       "        [[[-0.0420,  0.0488],\n",
       "          [ 0.0889,  0.1005]],\n",
       "\n",
       "         [[ 0.2330,  0.2527],\n",
       "          [ 0.1392, -0.3057]]],\n",
       "\n",
       "\n",
       "        [[[ 0.0168,  0.3110],\n",
       "          [ 0.2743,  0.1547]],\n",
       "\n",
       "         [[-0.2884,  0.0872],\n",
       "          [ 0.1553, -0.2668]]]], requires_grad=True)"
      ]
     },
     "execution_count": 10,
     "metadata": {},
     "output_type": "execute_result"
    }
   ],
   "source": [
    "params[2]"
   ]
  },
  {
   "cell_type": "code",
   "execution_count": 11,
   "metadata": {},
   "outputs": [
    {
     "data": {
      "text/plain": [
       "tensor([[[[-0.9113, -0.7398,  0.9535,  ..., -0.8710, -0.5502,  0.2561],\n",
       "          [-2.5024,  0.2841,  0.7502,  ...,  0.1073,  0.8546,  0.7241],\n",
       "          [ 0.6583,  0.0243,  1.8584,  ..., -0.2535, -0.3927,  1.8594],\n",
       "          ...,\n",
       "          [-1.4922, -0.8594, -1.6655,  ...,  0.4373, -0.7017, -1.2383],\n",
       "          [ 0.0490, -0.2616,  1.0470,  ..., -1.3529,  0.1728, -0.1697],\n",
       "          [-0.2869, -1.8312,  0.8508,  ..., -1.1578, -1.7421,  1.7011]]]])"
      ]
     },
     "execution_count": 11,
     "metadata": {},
     "output_type": "execute_result"
    }
   ],
   "source": [
    "input = torch.randn(1,1,32,32)\n",
    "input"
   ]
  },
  {
   "cell_type": "code",
   "execution_count": 12,
   "metadata": {},
   "outputs": [
    {
     "data": {
      "text/plain": [
       "torch.Size([1, 2, 15, 15])"
      ]
     },
     "execution_count": 12,
     "metadata": {},
     "output_type": "execute_result"
    }
   ],
   "source": [
    "out = net(input)\n",
    "out.size()"
   ]
  },
  {
   "cell_type": "code",
   "execution_count": 13,
   "metadata": {},
   "outputs": [
    {
     "data": {
      "text/plain": [
       "tensor([[[[0.3130, 0.6094, 1.0338, 0.9220, 0.7920, 0.6990, 0.6059, 0.7968,\n",
       "           0.8373, 0.3877, 0.8287, 0.4424, 1.3214, 1.1739, 0.8732],\n",
       "          [1.0558, 0.7715, 0.8701, 0.8824, 1.2899, 0.9736, 1.1244, 0.7209,\n",
       "           0.8940, 1.0066, 1.2641, 1.1465, 0.5904, 0.3939, 1.0122],\n",
       "          [0.7962, 1.3068, 1.0170, 0.3797, 0.6270, 1.4020, 0.0703, 0.9440,\n",
       "           0.9175, 1.2878, 0.5889, 0.7082, 1.4636, 0.9337, 1.0377],\n",
       "          [0.7924, 0.3766, 0.9924, 0.6256, 0.8384, 1.4192, 0.8389, 0.4655,\n",
       "           1.2767, 1.0725, 1.2888, 1.4043, 0.1134, 0.3872, 1.6546],\n",
       "          [1.4561, 0.6760, 0.7025, 0.8980, 1.8682, 1.0375, 0.8600, 0.7612,\n",
       "           0.7586, 0.9821, 0.8308, 0.3766, 0.9144, 1.0673, 1.0028],\n",
       "          [0.6318, 0.5721, 0.6830, 0.9735, 1.0365, 0.9875, 0.2867, 1.3588,\n",
       "           1.1123, 0.7599, 0.8277, 1.2722, 0.5385, 0.6952, 0.6224],\n",
       "          [0.7641, 0.8167, 0.3841, 1.1948, 0.4313, 0.9168, 0.4909, 0.4273,\n",
       "           0.8600, 0.5074, 1.0342, 0.8568, 0.2422, 1.7330, 0.3814],\n",
       "          [0.6870, 0.6704, 0.7440, 0.6005, 0.8461, 0.3775, 1.1596, 1.5835,\n",
       "           0.2395, 1.0794, 1.1927, 0.4281, 0.4750, 0.7616, 0.3443],\n",
       "          [0.2666, 0.7283, 0.6281, 1.7629, 0.3003, 0.3765, 0.5141, 1.1594,\n",
       "           0.9738, 0.5546, 1.0209, 1.1276, 1.0118, 0.6587, 0.8809],\n",
       "          [0.8534, 0.5213, 0.3695, 0.2479, 1.0447, 1.4064, 1.2625, 0.8461,\n",
       "           1.0600, 1.0674, 0.7875, 0.8882, 0.8863, 0.5705, 0.8749],\n",
       "          [0.8242, 1.3406, 0.6880, 0.9947, 1.1613, 0.9544, 0.8313, 0.6487,\n",
       "           1.0924, 0.2878, 1.3798, 0.3457, 0.4906, 0.6831, 1.9631],\n",
       "          [0.5195, 0.8925, 0.9001, 0.6274, 1.0546, 0.8457, 0.7342, 0.2341,\n",
       "           0.8388, 1.2043, 1.2885, 0.9056, 0.6472, 0.0457, 0.6314],\n",
       "          [0.9829, 0.4004, 0.9528, 0.7833, 0.9546, 0.7344, 1.3596, 1.9116,\n",
       "           0.9481, 0.6313, 0.8810, 0.9101, 0.7172, 1.0050, 0.7336],\n",
       "          [1.0928, 0.8870, 0.9828, 0.8250, 0.8968, 0.9467, 1.1545, 1.0779,\n",
       "           1.4507, 1.7592, 0.6846, 1.0463, 0.6838, 0.7832, 0.7458],\n",
       "          [1.0450, 0.2371, 2.3100, 0.6187, 0.4696, 0.7226, 0.8353, 1.4674,\n",
       "           0.9587, 0.5663, 0.5558, 0.8790, 0.8426, 0.7261, 1.3168]],\n",
       "\n",
       "         [[1.1967, 1.6373, 0.6176, 0.3457, 2.5216, 0.5196, 1.5482, 0.4798,\n",
       "           0.0000, 0.2702, 0.8234, 0.0000, 1.6792, 1.0382, 0.4503],\n",
       "          [1.2818, 0.5823, 0.4240, 0.8464, 0.4672, 2.5435, 0.5680, 0.0000,\n",
       "           0.9270, 0.4833, 1.1335, 0.9339, 0.9340, 0.4664, 0.1919],\n",
       "          [0.9713, 1.2250, 0.9788, 0.5934, 2.0309, 0.5472, 1.2787, 0.9672,\n",
       "           1.3229, 1.0620, 0.4523, 0.8114, 1.2035, 1.2820, 0.3368],\n",
       "          [0.0000, 1.8318, 0.2249, 0.1085, 0.0000, 0.0000, 0.5231, 0.7404,\n",
       "           0.8147, 1.4471, 0.7831, 1.0343, 1.3587, 0.6782, 1.5591],\n",
       "          [1.5601, 0.2842, 0.4377, 1.1572, 1.0223, 1.1215, 0.0000, 0.8789,\n",
       "           0.8371, 0.6799, 0.0000, 0.7574, 0.4614, 1.3308, 1.5863],\n",
       "          [0.5351, 0.4425, 0.9560, 0.5081, 0.0117, 0.7648, 0.1889, 0.9474,\n",
       "           0.1337, 1.2919, 0.3599, 0.6237, 1.2401, 0.6484, 0.8715],\n",
       "          [0.8181, 0.4885, 0.5561, 0.3054, 0.7845, 0.0879, 0.8192, 0.1514,\n",
       "           0.4163, 0.5270, 0.0000, 0.7937, 0.9870, 1.2757, 1.6352],\n",
       "          [1.5910, 0.8219, 1.5461, 0.7803, 0.0000, 1.3474, 1.3938, 0.1432,\n",
       "           0.7337, 0.6640, 1.0627, 0.4094, 1.4777, 0.6204, 0.5920],\n",
       "          [0.6764, 0.7759, 0.3849, 0.9838, 0.5863, 0.7451, 1.0538, 0.1379,\n",
       "           0.1340, 0.4404, 0.0000, 1.5432, 0.6983, 1.7302, 0.1557],\n",
       "          [0.4946, 0.6162, 1.5428, 0.7303, 1.7029, 0.7251, 0.5036, 1.1169,\n",
       "           0.4199, 1.4921, 0.5265, 0.6353, 1.4404, 1.5970, 0.6010],\n",
       "          [0.8268, 1.5146, 0.4135, 0.5182, 0.5102, 1.5361, 0.5569, 0.5775,\n",
       "           0.3305, 0.8302, 1.9029, 0.9007, 0.9724, 1.7563, 1.6682],\n",
       "          [0.3841, 1.1135, 1.2036, 0.9075, 1.5718, 1.4812, 0.0000, 0.9483,\n",
       "           0.3905, 0.9325, 0.2692, 0.8501, 0.7783, 0.0000, 1.5771],\n",
       "          [0.9734, 0.8226, 1.1087, 1.0293, 0.5830, 0.0891, 0.7139, 1.0647,\n",
       "           1.2609, 0.9530, 0.1340, 0.7606, 1.1881, 0.9177, 1.0531],\n",
       "          [0.9179, 1.0526, 0.5870, 0.3072, 0.2006, 0.2508, 1.4316, 0.7683,\n",
       "           1.4649, 0.7358, 0.2984, 0.6694, 0.6639, 0.4201, 0.0000],\n",
       "          [0.0861, 0.6966, 1.2827, 1.6331, 0.0149, 1.9296, 1.2664, 0.9808,\n",
       "           1.3379, 0.0937, 0.7981, 0.1964, 0.8595, 0.5361, 0.2125]]]],\n",
       "       grad_fn=<MaxPool2DWithIndicesBackward>)"
      ]
     },
     "execution_count": 13,
     "metadata": {},
     "output_type": "execute_result"
    }
   ],
   "source": [
    "out"
   ]
  },
  {
   "cell_type": "code",
   "execution_count": null,
   "metadata": {},
   "outputs": [],
   "source": []
  }
 ],
 "metadata": {
  "kernelspec": {
   "display_name": "Python [default]",
   "language": "python",
   "name": "python3"
  },
  "language_info": {
   "codemirror_mode": {
    "name": "ipython",
    "version": 3
   },
   "file_extension": ".py",
   "mimetype": "text/x-python",
   "name": "python",
   "nbconvert_exporter": "python",
   "pygments_lexer": "ipython3",
   "version": "3.7.0"
  }
 },
 "nbformat": 4,
 "nbformat_minor": 2
}
